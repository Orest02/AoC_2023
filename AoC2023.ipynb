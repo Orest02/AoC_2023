{
  "nbformat": 4,
  "nbformat_minor": 0,
  "metadata": {
    "colab": {
      "provenance": [],
      "authorship_tag": "ABX9TyObMieSzZ9OQ3LmO2YpBrKT",
      "include_colab_link": true
    },
    "kernelspec": {
      "name": "python3",
      "display_name": "Python 3"
    },
    "language_info": {
      "name": "python"
    }
  },
  "cells": [
    {
      "cell_type": "markdown",
      "metadata": {
        "id": "view-in-github",
        "colab_type": "text"
      },
      "source": [
        "<a href=\"https://colab.research.google.com/github/Orest02/AoC_2023/blob/main/AoC2023.ipynb\" target=\"_parent\"><img src=\"https://colab.research.google.com/assets/colab-badge.svg\" alt=\"Open In Colab\"/></a>"
      ]
    },
    {
      "cell_type": "code",
      "execution_count": null,
      "metadata": {
        "colab": {
          "base_uri": "https://localhost:8080/"
        },
        "id": "C39fHxgbPNqG",
        "outputId": "45ad46dd-181c-47dc-bd7d-88daec8673ae"
      },
      "outputs": [
        {
          "output_type": "execute_result",
          "data": {
            "text/plain": [
              "54390"
            ]
          },
          "metadata": {},
          "execution_count": 17
        }
      ],
      "source": [
        "# Task 1.1\n",
        "\n",
        "sum_ = 0\n",
        "\n",
        "with open('input.txt') as f:\n",
        "  for line in f:\n",
        "    number = \"\".join([x for x in line if x.isnumeric()])\n",
        "    if len(number)<1:\n",
        "      continue\n",
        "    else:\n",
        "      number = int(number[0] + number[-1])\n",
        "    sum_ += int(number)\n",
        "\n",
        "sum_"
      ]
    },
    {
      "cell_type": "code",
      "execution_count": null,
      "metadata": {
        "colab": {
          "base_uri": "https://localhost:8080/"
        },
        "outputId": "fc74e9fe-8f3c-4f0b-cdcc-ece5144a51b4",
        "id": "Y6blh2WHTfa4"
      },
      "outputs": [
        {
          "output_type": "execute_result",
          "data": {
            "text/plain": [
              "54277"
            ]
          },
          "metadata": {},
          "execution_count": 51
        }
      ],
      "source": [
        "# Task 1.2\n",
        "\n",
        "words_to_numbers = {\n",
        "        'one': '1',\n",
        "        'two': '2',\n",
        "        'three': '3',\n",
        "        'four': '4',\n",
        "        'five': '5',\n",
        "        'six': '6',\n",
        "        'seven': '7',\n",
        "        'eight': '8',\n",
        "        'nine': '9',\n",
        "        'zero': '0'\n",
        "    }\n",
        "\n",
        "allkeys = \"_\".join(words_to_numbers.keys())\n",
        "\n",
        "sum_ = 0\n",
        "\n",
        "with open('input.txt') as f:\n",
        "  for line in f:\n",
        "    number = []\n",
        "    wordnum = ''\n",
        "    for x in line:\n",
        "      if x.isnumeric():\n",
        "        number.append(x)\n",
        "        wordnum = ''\n",
        "      elif (wordnum + x) in allkeys:\n",
        "        wordnum += x\n",
        "        if wordnum in words_to_numbers.keys():\n",
        "          number.append(words_to_numbers[wordnum])\n",
        "          wordnum = wordnum[-1]\n",
        "      elif x in allkeys:\n",
        "        wordnum = wordnum[-1] + x\n",
        "      else:\n",
        "        wordnum = '' if not len(wordnum) else wordnum[-1]\n",
        "    number = \"\".join(number)\n",
        "    if len(number)<1:\n",
        "      continue\n",
        "    else:\n",
        "      number = int(number[0] + number[-1])\n",
        "    sum_ += int(number)\n",
        "\n",
        "sum_"
      ]
    },
    {
      "cell_type": "code",
      "source": [
        "# Task 2.1\n",
        "\n",
        "sum_ = 0\n",
        "colour_limit = {'red': 12, 'green': 13, 'blue': 14}\n",
        "\n",
        "def count_colours(set_):\n",
        "  return {colour.strip(): int(number.strip()) for (number,colour) in (element.split() for element in set_.split(', '))}\n",
        "\n",
        "\n",
        "with open('input.txt') as f:\n",
        "  for line in f:\n",
        "    # colours = {'red': 0, 'green': 0, 'blue': 0}\n",
        "    game_id, sets = line.split(': ')\n",
        "    game_id = int(game_id.split('Game ')[-1])\n",
        "\n",
        "    for _set_ in sets.split('; '):\n",
        "      is_possible = True\n",
        "      for colour, count in count_colours(_set_).items():\n",
        "        if count > colour_limit[colour]:\n",
        "          is_possible = False\n",
        "          break\n",
        "      if not is_possible:\n",
        "        break\n",
        "    else:\n",
        "      sum_ += game_id\n",
        "\n",
        "sum_"
      ],
      "metadata": {
        "id": "R1LKbLfqPuWS",
        "colab": {
          "base_uri": "https://localhost:8080/"
        },
        "outputId": "97335a61-e2ee-48de-fb77-483eb3aabbd4"
      },
      "execution_count": null,
      "outputs": [
        {
          "output_type": "execute_result",
          "data": {
            "text/plain": [
              "2283"
            ]
          },
          "metadata": {},
          "execution_count": 25
        }
      ]
    },
    {
      "cell_type": "code",
      "source": [
        "# Task 2.2\n",
        "\n",
        "sum_ = 0\n",
        "\n",
        "def count_colours(set_):\n",
        "  return {colour.strip(): int(number.strip()) for (number,colour) in (element.split() for element in set_.split(', '))}\n",
        "\n",
        "\n",
        "with open('input.txt') as f:\n",
        "  for line in f:\n",
        "    colours = {'red': 0, 'green': 0, 'blue': 0}\n",
        "    game_id, sets = line.split(': ')\n",
        "    game_id = int(game_id.split('Game ')[-1])\n",
        "\n",
        "    for _set_ in sets.split('; '):\n",
        "      for colour, count in count_colours(_set_).items():\n",
        "        if count > colours[colour]:\n",
        "          colours[colour] = count\n",
        "    power = 1\n",
        "    for colour, count in colours.items():\n",
        "      power *= count\n",
        "\n",
        "    sum_ += power\n",
        "\n",
        "sum_"
      ],
      "metadata": {
        "colab": {
          "base_uri": "https://localhost:8080/"
        },
        "id": "fM7JimKScWhB",
        "outputId": "4165bc96-0929-4790-caf3-3d9a8cfe01e6"
      },
      "execution_count": null,
      "outputs": [
        {
          "output_type": "execute_result",
          "data": {
            "text/plain": [
              "78669"
            ]
          },
          "metadata": {},
          "execution_count": 26
        }
      ]
    },
    {
      "cell_type": "code",
      "source": [
        "# Task 3.1\n",
        "import numpy as np\n",
        "\n",
        "sum_ = 0\n",
        "numbers = []\n",
        "number_ids = []\n",
        "char_ids = []\n",
        "overall_char_ids = []\n",
        "\n",
        "with open('input.txt') as f:\n",
        "  for ln, line in enumerate(f):\n",
        "    number = ''\n",
        "    line_num_ids = []\n",
        "    line_char_ids = []\n",
        "    for col, char in enumerate(line):\n",
        "      if char.isnumeric(): # or (char == '-' and not number):\n",
        "        number+= char\n",
        "        line_num_ids.append(np.array([ln, col]))\n",
        "      elif number:\n",
        "        numbers.append(int(number))\n",
        "        number_ids.append(np.array(line_num_ids))\n",
        "        line_num_ids = []\n",
        "        number = ''\n",
        "      if not char.isalnum() and char not in '. \\n':\n",
        "        line_char_ids.append(np.array([ln, col]))\n",
        "        overall_char_ids.append(np.array([ln, col]))\n",
        "    char_ids.append(np.array(line_char_ids))\n",
        "\n",
        "overall_char_ids = np.array(overall_char_ids)\n",
        "\n",
        "def check_for_neighbourhood(id_set):\n",
        "  for digit_id in id_set:\n",
        "    is_close = np.abs(overall_char_ids - digit_id) <=1\n",
        "    if is_close.all(axis=1).any():\n",
        "      return True\n",
        "  return False\n",
        "\n",
        "chosen = []\n",
        "for num_num, number in enumerate(numbers):\n",
        "  if check_for_neighbourhood(number_ids[num_num]):\n",
        "    chosen.append(number)\n",
        "    sum_ += number\n",
        "\n",
        "sum_"
      ],
      "metadata": {
        "colab": {
          "base_uri": "https://localhost:8080/"
        },
        "id": "jxIdWpNUTp_u",
        "outputId": "eef836d2-22ea-4eb6-db62-9b8ac5b00295"
      },
      "execution_count": null,
      "outputs": [
        {
          "output_type": "execute_result",
          "data": {
            "text/plain": [
              "554003"
            ]
          },
          "metadata": {},
          "execution_count": 82
        }
      ]
    },
    {
      "cell_type": "code",
      "source": [
        "# Task 3.2\n",
        "import numpy as np\n",
        "\n",
        "sum_ = 0\n",
        "numbers = []\n",
        "number_ids = []\n",
        "char_ids = []\n",
        "overall_char_ids = []\n",
        "\n",
        "with open('input.txt') as f:\n",
        "  for ln, line in enumerate(f):\n",
        "    number = ''\n",
        "    line_num_ids = []\n",
        "    line_char_ids = []\n",
        "    for col, char in enumerate(line):\n",
        "      if char.isnumeric(): # or (char == '-' and not number):\n",
        "        number+= char\n",
        "        line_num_ids.append(np.array([ln, col]))\n",
        "      elif number:\n",
        "        numbers.append(int(number))\n",
        "        number_ids.append(np.array(line_num_ids))\n",
        "        line_num_ids = []\n",
        "        number = ''\n",
        "      if char == '*':\n",
        "        line_char_ids.append(np.array([ln, col]))\n",
        "        overall_char_ids.append(np.array([ln, col]))\n",
        "    char_ids.append(np.array(line_char_ids))\n",
        "\n",
        "overall_char_ids = np.array(overall_char_ids)\n",
        "\n",
        "def check_for_neighbourhood(id_set):\n",
        "  for digit_id in id_set:\n",
        "    is_close = np.abs(overall_char_ids - digit_id) <=1\n",
        "    if is_close.all(axis=1).any():\n",
        "      return is_close.all(axis=1)\n",
        "\n",
        "chosen = []\n",
        "for num_num, number in enumerate(numbers):\n",
        "  chosen.append(check_for_neighbourhood(number_ids[num_num]))\n",
        "\n",
        "gear_ratios = []\n",
        "for i, x in enumerate(chosen):\n",
        "  if x is None:\n",
        "    gear_ratios.append([])\n",
        "    continue\n",
        "  gear_ratio = []\n",
        "  for j, y in enumerate(chosen):\n",
        "    if j<= i or y is None:\n",
        "      continue\n",
        "    if (x & y).any():\n",
        "      gear_ratio.append(numbers[j])\n",
        "  if gear_ratio:\n",
        "    gear_ratio.append(numbers[i])\n",
        "  gear_ratios.append(gear_ratio)\n",
        "\n",
        "for candidates in gear_ratios:\n",
        "  if len(candidates) == 2:\n",
        "    sum_ += prod(candidates)\n",
        "\n",
        "sum_"
      ],
      "metadata": {
        "id": "M7YmhnRxUzRM",
        "outputId": "d7d3a697-f376-4700-af8a-d7ee35b4765a",
        "colab": {
          "base_uri": "https://localhost:8080/"
        }
      },
      "execution_count": null,
      "outputs": [
        {
          "output_type": "execute_result",
          "data": {
            "text/plain": [
              "87263515"
            ]
          },
          "metadata": {},
          "execution_count": 91
        }
      ]
    },
    {
      "cell_type": "code",
      "source": [
        "# Task 4.1\n",
        "\n",
        "sum_ = 0\n",
        "\n",
        "\n",
        "with open('input.txt') as f:\n",
        "  for line in f:\n",
        "    win_points = 0\n",
        "\n",
        "    game_id, sets = line.split(': ')\n",
        "    game_id = int(game_id.split('Card ')[-1])\n",
        "\n",
        "    wins, trials = sets.split(' | ')\n",
        "\n",
        "    trials = trials.split()\n",
        "\n",
        "    for win in wins.split():\n",
        "      if win.strip() in trials:\n",
        "        if not win_points:\n",
        "          win_points = 1\n",
        "        else:\n",
        "          win_points *= 2\n",
        "\n",
        "    sum_ += win_points\n",
        "\n",
        "sum_"
      ],
      "metadata": {
        "id": "vINUhe7MIwJg",
        "colab": {
          "base_uri": "https://localhost:8080/"
        },
        "outputId": "54527360-a4a6-4381-bc8a-ce080eb59353"
      },
      "execution_count": 3,
      "outputs": [
        {
          "output_type": "execute_result",
          "data": {
            "text/plain": [
              "21568"
            ]
          },
          "metadata": {},
          "execution_count": 3
        }
      ]
    },
    {
      "cell_type": "code",
      "source": [
        "# Task 4.2\n",
        "\n",
        "import numpy as np\n",
        "\n",
        "sum_ = 0\n",
        "\n",
        "card_nums = np.ones(196)\n",
        "\n",
        "with open('input.txt') as f:\n",
        "  for line in f:\n",
        "\n",
        "    game_id, sets = line.split(': ')\n",
        "    game_id = int(game_id.split('Card ')[-1])\n",
        "\n",
        "    won_card_id = game_id\n",
        "\n",
        "    wins, trials = sets.split(' | ')\n",
        "\n",
        "    trials = trials.split()\n",
        "\n",
        "    for win in wins.split():\n",
        "      if win.strip() in trials:\n",
        "        won_card_id += 1\n",
        "\n",
        "        card_nums[won_card_id] += card_nums[game_id]\n",
        "\n",
        "    # sum_ += win_points\n",
        "\n",
        "card_nums.sum()"
      ],
      "metadata": {
        "colab": {
          "base_uri": "https://localhost:8080/"
        },
        "id": "XhZ2237vvtYn",
        "outputId": "c56538ff-6042-4f06-d0c8-6654d7b57a1f"
      },
      "execution_count": 6,
      "outputs": [
        {
          "output_type": "execute_result",
          "data": {
            "text/plain": [
              "11827296.0"
            ]
          },
          "metadata": {},
          "execution_count": 6
        }
      ]
    },
    {
      "cell_type": "code",
      "source": [],
      "metadata": {
        "id": "JV--QxPTzqei"
      },
      "execution_count": null,
      "outputs": []
    }
  ]
}