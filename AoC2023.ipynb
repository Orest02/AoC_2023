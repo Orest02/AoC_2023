{
  "nbformat": 4,
  "nbformat_minor": 0,
  "metadata": {
    "colab": {
      "provenance": [],
      "authorship_tag": "ABX9TyMaYNCcqFreXXeDJl7i+o9b",
      "include_colab_link": true
    },
    "kernelspec": {
      "name": "python3",
      "display_name": "Python 3"
    },
    "language_info": {
      "name": "python"
    }
  },
  "cells": [
    {
      "cell_type": "markdown",
      "metadata": {
        "id": "view-in-github",
        "colab_type": "text"
      },
      "source": [
        "<a href=\"https://colab.research.google.com/github/Orest02/AoC_2023/blob/main/AoC2023.ipynb\" target=\"_parent\"><img src=\"https://colab.research.google.com/assets/colab-badge.svg\" alt=\"Open In Colab\"/></a>"
      ]
    },
    {
      "cell_type": "code",
      "execution_count": null,
      "metadata": {
        "colab": {
          "base_uri": "https://localhost:8080/"
        },
        "id": "C39fHxgbPNqG",
        "outputId": "45ad46dd-181c-47dc-bd7d-88daec8673ae"
      },
      "outputs": [
        {
          "output_type": "execute_result",
          "data": {
            "text/plain": [
              "54390"
            ]
          },
          "metadata": {},
          "execution_count": 17
        }
      ],
      "source": [
        "# Task 1.1\n",
        "\n",
        "sum_ = 0\n",
        "\n",
        "with open('input.txt') as f:\n",
        "  for line in f:\n",
        "    number = \"\".join([x for x in line if x.isnumeric()])\n",
        "    if len(number)<1:\n",
        "      continue\n",
        "    else:\n",
        "      number = int(number[0] + number[-1])\n",
        "    sum_ += int(number)\n",
        "\n",
        "sum_"
      ]
    },
    {
      "cell_type": "code",
      "execution_count": null,
      "metadata": {
        "colab": {
          "base_uri": "https://localhost:8080/"
        },
        "outputId": "fc74e9fe-8f3c-4f0b-cdcc-ece5144a51b4",
        "id": "Y6blh2WHTfa4"
      },
      "outputs": [
        {
          "output_type": "execute_result",
          "data": {
            "text/plain": [
              "54277"
            ]
          },
          "metadata": {},
          "execution_count": 51
        }
      ],
      "source": [
        "# Task 1.2\n",
        "\n",
        "words_to_numbers = {\n",
        "        'one': '1',\n",
        "        'two': '2',\n",
        "        'three': '3',\n",
        "        'four': '4',\n",
        "        'five': '5',\n",
        "        'six': '6',\n",
        "        'seven': '7',\n",
        "        'eight': '8',\n",
        "        'nine': '9',\n",
        "        'zero': '0'\n",
        "    }\n",
        "\n",
        "allkeys = \"_\".join(words_to_numbers.keys())\n",
        "\n",
        "sum_ = 0\n",
        "\n",
        "with open('input.txt') as f:\n",
        "  for line in f:\n",
        "    number = []\n",
        "    wordnum = ''\n",
        "    for x in line:\n",
        "      if x.isnumeric():\n",
        "        number.append(x)\n",
        "        wordnum = ''\n",
        "      elif (wordnum + x) in allkeys:\n",
        "        wordnum += x\n",
        "        if wordnum in words_to_numbers.keys():\n",
        "          number.append(words_to_numbers[wordnum])\n",
        "          wordnum = wordnum[-1]\n",
        "      elif x in allkeys:\n",
        "        wordnum = wordnum[-1] + x\n",
        "      else:\n",
        "        wordnum = '' if not len(wordnum) else wordnum[-1]\n",
        "    number = \"\".join(number)\n",
        "    if len(number)<1:\n",
        "      continue\n",
        "    else:\n",
        "      number = int(number[0] + number[-1])\n",
        "    sum_ += int(number)\n",
        "\n",
        "sum_"
      ]
    },
    {
      "cell_type": "code",
      "source": [
        "# Task 2.1\n",
        "\n",
        "sum_ = 0\n",
        "colour_limit = {'red': 12, 'green': 13, 'blue': 14}\n",
        "\n",
        "def count_colours(set_):\n",
        "  return {colour.strip(): int(number.strip()) for (number,colour) in (element.split() for element in set_.split(', '))}\n",
        "\n",
        "\n",
        "with open('input.txt') as f:\n",
        "  for line in f:\n",
        "    # colours = {'red': 0, 'green': 0, 'blue': 0}\n",
        "    game_id, sets = line.split(': ')\n",
        "    game_id = int(game_id.split('Game ')[-1])\n",
        "\n",
        "    for _set_ in sets.split('; '):\n",
        "      is_possible = True\n",
        "      for colour, count in count_colours(_set_).items():\n",
        "        if count > colour_limit[colour]:\n",
        "          is_possible = False\n",
        "          break\n",
        "      if not is_possible:\n",
        "        break\n",
        "    else:\n",
        "      sum_ += game_id\n",
        "\n",
        "sum_"
      ],
      "metadata": {
        "id": "R1LKbLfqPuWS",
        "outputId": "97335a61-e2ee-48de-fb77-483eb3aabbd4",
        "colab": {
          "base_uri": "https://localhost:8080/"
        }
      },
      "execution_count": 25,
      "outputs": [
        {
          "output_type": "execute_result",
          "data": {
            "text/plain": [
              "2283"
            ]
          },
          "metadata": {},
          "execution_count": 25
        }
      ]
    },
    {
      "cell_type": "code",
      "source": [
        "# Task 2.2\n",
        "\n",
        "sum_ = 0\n",
        "\n",
        "def count_colours(set_):\n",
        "  return {colour.strip(): int(number.strip()) for (number,colour) in (element.split() for element in set_.split(', '))}\n",
        "\n",
        "\n",
        "with open('input.txt') as f:\n",
        "  for line in f:\n",
        "    colours = {'red': 0, 'green': 0, 'blue': 0}\n",
        "    game_id, sets = line.split(': ')\n",
        "    game_id = int(game_id.split('Game ')[-1])\n",
        "\n",
        "    for _set_ in sets.split('; '):\n",
        "      for colour, count in count_colours(_set_).items():\n",
        "        if count > colours[colour]:\n",
        "          colours[colour] = count\n",
        "    power = 1\n",
        "    for colour, count in colours.items():\n",
        "      power *= count\n",
        "\n",
        "    sum_ += power\n",
        "\n",
        "sum_"
      ],
      "metadata": {
        "id": "fM7JimKScWhB",
        "outputId": "4165bc96-0929-4790-caf3-3d9a8cfe01e6",
        "colab": {
          "base_uri": "https://localhost:8080/"
        }
      },
      "execution_count": 26,
      "outputs": [
        {
          "output_type": "execute_result",
          "data": {
            "text/plain": [
              "78669"
            ]
          },
          "metadata": {},
          "execution_count": 26
        }
      ]
    },
    {
      "cell_type": "code",
      "source": [],
      "metadata": {
        "id": "jxIdWpNUTp_u"
      },
      "execution_count": null,
      "outputs": []
    }
  ]
}